{
 "cells": [
  {
   "cell_type": "markdown",
   "id": "9ae48f79",
   "metadata": {},
   "source": [
    "# Filter FASTQ files based on cell barcodes present in the author-processed data \n",
    "---\n",
    "At the bottom of this notebook is an example on one library / FASTQ file. The rest were run in a script, which can be reproduced by removing the **`break`** statement in the loop."
   ]
  },
  {
   "cell_type": "markdown",
   "id": "178fee58",
   "metadata": {},
   "source": [
    " #### Load libraries"
   ]
  },
  {
   "cell_type": "code",
   "execution_count": 1,
   "id": "7e14c1dc",
   "metadata": {},
   "outputs": [
    {
     "data": {
      "application/javascript": [
       "\n",
       "            setTimeout(function() {\n",
       "                var nbb_cell_id = 1;\n",
       "                var nbb_unformatted_code = \"%load_ext nb_black\\n\\nimport scdiffeq as sdq\\n\\nodeint, torch, np, pd, plt, nn, a, os, time, optim, sp, PCA, v = sdq.ut.devlibs()\";\n",
       "                var nbb_formatted_code = \"%load_ext nb_black\\n\\nimport scdiffeq as sdq\\n\\nodeint, torch, np, pd, plt, nn, a, os, time, optim, sp, PCA, v = sdq.ut.devlibs()\";\n",
       "                var nbb_cells = Jupyter.notebook.get_cells();\n",
       "                for (var i = 0; i < nbb_cells.length; ++i) {\n",
       "                    if (nbb_cells[i].input_prompt_number == nbb_cell_id) {\n",
       "                        if (nbb_cells[i].get_text() == nbb_unformatted_code) {\n",
       "                             nbb_cells[i].set_text(nbb_formatted_code);\n",
       "                        }\n",
       "                        break;\n",
       "                    }\n",
       "                }\n",
       "            }, 500);\n",
       "            "
      ],
      "text/plain": [
       "<IPython.core.display.Javascript object>"
      ]
     },
     "metadata": {},
     "output_type": "display_data"
    }
   ],
   "source": [
    "%load_ext nb_black\n",
    "\n",
    "import scdiffeq as sdq\n",
    "\n",
    "odeint, torch, np, pd, plt, nn, a, os, time, optim, sp, PCA, v = sdq.ut.devlibs()"
   ]
  },
  {
   "cell_type": "markdown",
   "id": "edd36b07",
   "metadata": {},
   "source": [
    "#### Create log"
   ]
  },
  {
   "cell_type": "code",
   "execution_count": 2,
   "id": "fe9f793a",
   "metadata": {},
   "outputs": [
    {
     "name": "stderr",
     "output_type": "stream",
     "text": [
      "05-Jul-21 | 21:59:15 - root - [ logger created. ]\n"
     ]
    },
    {
     "data": {
      "application/javascript": [
       "\n",
       "            setTimeout(function() {\n",
       "                var nbb_cell_id = 2;\n",
       "                var nbb_unformatted_code = \"def create_logger(logname=\\\"debug.log\\\"):\\n\\n    import os, logging\\n\\n    logdir = \\\"/home/mvinyard/scripts/.process_logs\\\"\\n    if not os.path.exists(logdir):\\n        os.mkdir(logdir)\\n\\n    logname = os.path.join(logdir, logname)\\n\\n    if os.path.exists(logname):\\n        os.remove(logname)\\n\\n    # now we will Create and configure logger\\n    # set the threshold of logger to INFO\\n    logging.basicConfig(\\n        level=\\\"INFO\\\",\\n        format=\\\"%(asctime)s - %(name)s - [ %(message)s ]\\\",\\n        datefmt=\\\"%d-%b-%y | %H:%M:%S\\\",\\n        force=True,\\n        handlers=[logging.FileHandler(logname), logging.StreamHandler()],\\n    )\\n\\n    # Let us Create an object\\n    logger = logging.getLogger()\\n\\n    return logger\\n\\n\\nlogger = create_logger(logname=\\\"example.filter.fastqs.Weinreb.2020.debug.log\\\")\\n\\nlogger.info(\\\"logger created.\\\")\";\n",
       "                var nbb_formatted_code = \"def create_logger(logname=\\\"debug.log\\\"):\\n\\n    import os, logging\\n\\n    logdir = \\\"/home/mvinyard/scripts/.process_logs\\\"\\n    if not os.path.exists(logdir):\\n        os.mkdir(logdir)\\n\\n    logname = os.path.join(logdir, logname)\\n\\n    if os.path.exists(logname):\\n        os.remove(logname)\\n\\n    # now we will Create and configure logger\\n    # set the threshold of logger to INFO\\n    logging.basicConfig(\\n        level=\\\"INFO\\\",\\n        format=\\\"%(asctime)s - %(name)s - [ %(message)s ]\\\",\\n        datefmt=\\\"%d-%b-%y | %H:%M:%S\\\",\\n        force=True,\\n        handlers=[logging.FileHandler(logname), logging.StreamHandler()],\\n    )\\n\\n    # Let us Create an object\\n    logger = logging.getLogger()\\n\\n    return logger\\n\\n\\nlogger = create_logger(logname=\\\"example.filter.fastqs.Weinreb.2020.debug.log\\\")\\n\\nlogger.info(\\\"logger created.\\\")\";\n",
       "                var nbb_cells = Jupyter.notebook.get_cells();\n",
       "                for (var i = 0; i < nbb_cells.length; ++i) {\n",
       "                    if (nbb_cells[i].input_prompt_number == nbb_cell_id) {\n",
       "                        if (nbb_cells[i].get_text() == nbb_unformatted_code) {\n",
       "                             nbb_cells[i].set_text(nbb_formatted_code);\n",
       "                        }\n",
       "                        break;\n",
       "                    }\n",
       "                }\n",
       "            }, 500);\n",
       "            "
      ],
      "text/plain": [
       "<IPython.core.display.Javascript object>"
      ]
     },
     "metadata": {},
     "output_type": "display_data"
    }
   ],
   "source": [
    "def create_logger(logname=\"debug.log\"):\n",
    "\n",
    "    import os, logging\n",
    "\n",
    "    logdir = \"/home/mvinyard/scripts/.process_logs\"\n",
    "    if not os.path.exists(logdir):\n",
    "        os.mkdir(logdir)\n",
    "\n",
    "    logname = os.path.join(logdir, logname)\n",
    "\n",
    "    if os.path.exists(logname):\n",
    "        os.remove(logname)\n",
    "\n",
    "    # now we will Create and configure logger\n",
    "    # set the threshold of logger to INFO\n",
    "    logging.basicConfig(\n",
    "        level=\"INFO\",\n",
    "        format=\"%(asctime)s - %(name)s - [ %(message)s ]\",\n",
    "        datefmt=\"%d-%b-%y | %H:%M:%S\",\n",
    "        force=True,\n",
    "        handlers=[logging.FileHandler(logname), logging.StreamHandler()],\n",
    "    )\n",
    "\n",
    "    # Let us Create an object\n",
    "    logger = logging.getLogger()\n",
    "\n",
    "    return logger\n",
    "\n",
    "\n",
    "logger = create_logger(logname=\"example.filter.fastqs.Weinreb.2020.debug.log\")\n",
    "\n",
    "logger.info(\"logger created.\")"
   ]
  },
  {
   "cell_type": "markdown",
   "id": "235c124c",
   "metadata": {},
   "source": [
    "#### Define functions"
   ]
  },
  {
   "cell_type": "code",
   "execution_count": 3,
   "id": "9e8a4dcf",
   "metadata": {},
   "outputs": [
    {
     "data": {
      "application/javascript": [
       "\n",
       "            setTimeout(function() {\n",
       "                var nbb_cell_id = 3;\n",
       "                var nbb_unformatted_code = \"def get_files_in_path(path):\\n\\n    import glob\\n\\n    if path.endswith(\\\"/\\\"):\\n        mod_path = \\\"\\\".join([path, \\\"*\\\"])\\n    else:\\n        mod_path = \\\"/\\\".join([path, \\\"*\\\"])\\n        path = \\\"\\\".join([path, \\\"/\\\"])\\n\\n    files_in_dir = glob.glob(mod_path)\\n\\n    seq_libraries = []\\n    for file in files_in_dir:\\n        library = file.split(\\\".\\\")[-5].split(\\\"/\\\")[-1]\\n        seq_libraries.append(library)\\n\\n    return seq_libraries, files_in_dir\\n\\n\\ndef get_sequencing_library_final_barcodes(adata, library):\\n\\n    unique_bcs = adata.obs.loc[adata.obs.Library == library][\\\"Cell barcode\\\"].unique()\\n    print(str(int(unique_bcs.shape[0])), \\\"unique barcodes assocaited with:\\\", library)\\n\\n    return unique_bcs\\n\\n\\ndef count_reads_in_file(filepath, lines_per_read=4, ret=False):\\n\\n    print(\\\"Checking\\\", filepath, \\\"file size...\\\")\\n    command_string = \\\" \\\".join([\\\"zcat\\\", fq_path, \\\"| wc -l\\\"])\\n    num_lines = int(os.popen(command_string).read().split()[0])\\n    num_reads = int(num_lines / lines_per_read)\\n\\n    if ret == True:\\n        return num_lines\\n\\n\\ndef initiate_outFASTQ(sequencing_library, outdir=\\\"./\\\"):\\n\\n    output_path = \\\"%s.LARRY.%s.fastq\\\" % (sequencing_library, \\\"filtered_on_final\\\")\\n    full_outpath = os.path.join(outdir, output_path)\\n    outfile = open(full_outpath, \\\"w\\\")\\n\\n    return outfile, full_outpath\\n\\n\\ndef write_fastq_read(outfile, metadata, read, phredd):\\n\\n    \\\"\\\"\\\"\\\"\\\"\\\"\\n\\n    outfile.writelines([metadata, \\\"\\\\n\\\"])\\n    outfile.writelines([read, \\\"\\\\n\\\"])\\n    outfile.writelines([\\\"+\\\", \\\"\\\\n\\\"])\\n    outfile.writelines([phredd, \\\"\\\\n\\\"])\\n\\n\\ndef record_barcoded_read(line, input_FASTQ, filtered_FASTQ, line_counter):\\n\\n    line_counter += 1\\n    read = input_FASTQ.readline().decode(\\\"utf-8\\\").strip(\\\"\\\\n\\\")\\n    line_counter += 1\\n    plus = input_FASTQ.readline().decode(\\\"utf-8\\\").strip(\\\"\\\\n\\\")\\n    line_counter += 1\\n    phredd = input_FASTQ.readline().decode(\\\"utf-8\\\").strip(\\\"\\\\n\\\")\\n    # write\\n    write_fastq_read(outfile=filtered_FASTQ, metadata=line, read=read, phredd=phredd)\\n\\n    return line_counter\\n\\n\\ndef filter_FASTQ_on_barcodes(path, sequencing_library, unique_bcs, outpath=\\\"./\\\"):\\n\\n    \\\"\\\"\\\"\\\"\\\"\\\"\\n    import gzip\\n\\n    input_FASTQ = gzip.open(path)\\n    #     num_lines = count_reads_in_file(path, lines_per_read=4, ret=True)\\n    line = input_FASTQ.readline().decode(\\\"utf-8\\\").strip(\\\"\\\\n\\\")\\n\\n    filtered_FASTQ, filtered_outpath = initiate_outFASTQ(sequencing_library, outpath)\\n    line_counter, reads_in_barcodes, reads_not_in_barcodes = 0, 0, 0\\n\\n    print(\\n        \\\"Processing and filtering FASTQ reads based on final library cell barcodes...\\\",\\n        \\\"\\\\n\\\",\\n    )\\n\\n    while not (line == \\\"\\\"):\\n\\n        if line[0] == \\\"@\\\":\\n            cell_bc = line[1:].split(\\\":\\\")[0]\\n\\n            if cell_bc in unique_bcs:\\n                reads_in_barcodes += 1\\n                line_counter = record_barcoded_read(\\n                    line, input_FASTQ, filtered_FASTQ, line_counter\\n                )\\n            else:\\n                reads_not_in_barcodes += 1\\n\\n        #### update read processing status ####\\n        line_counter += 1\\n        if line_counter % (4e6) == 0:\\n            print(str(int(line_counter / 4e6)), \\\"million reads processed...\\\")\\n        line = input_FASTQ.readline().decode(\\\"utf-8\\\").strip(\\\"\\\\n\\\")\\n    filtered_FASTQ.close()\\n\\n    return filtered_outpath\";\n",
       "                var nbb_formatted_code = \"def get_files_in_path(path):\\n\\n    import glob\\n\\n    if path.endswith(\\\"/\\\"):\\n        mod_path = \\\"\\\".join([path, \\\"*\\\"])\\n    else:\\n        mod_path = \\\"/\\\".join([path, \\\"*\\\"])\\n        path = \\\"\\\".join([path, \\\"/\\\"])\\n\\n    files_in_dir = glob.glob(mod_path)\\n\\n    seq_libraries = []\\n    for file in files_in_dir:\\n        library = file.split(\\\".\\\")[-5].split(\\\"/\\\")[-1]\\n        seq_libraries.append(library)\\n\\n    return seq_libraries, files_in_dir\\n\\n\\ndef get_sequencing_library_final_barcodes(adata, library):\\n\\n    unique_bcs = adata.obs.loc[adata.obs.Library == library][\\\"Cell barcode\\\"].unique()\\n    print(str(int(unique_bcs.shape[0])), \\\"unique barcodes assocaited with:\\\", library)\\n\\n    return unique_bcs\\n\\n\\ndef count_reads_in_file(filepath, lines_per_read=4, ret=False):\\n\\n    print(\\\"Checking\\\", filepath, \\\"file size...\\\")\\n    command_string = \\\" \\\".join([\\\"zcat\\\", fq_path, \\\"| wc -l\\\"])\\n    num_lines = int(os.popen(command_string).read().split()[0])\\n    num_reads = int(num_lines / lines_per_read)\\n\\n    if ret == True:\\n        return num_lines\\n\\n\\ndef initiate_outFASTQ(sequencing_library, outdir=\\\"./\\\"):\\n\\n    output_path = \\\"%s.LARRY.%s.fastq\\\" % (sequencing_library, \\\"filtered_on_final\\\")\\n    full_outpath = os.path.join(outdir, output_path)\\n    outfile = open(full_outpath, \\\"w\\\")\\n\\n    return outfile, full_outpath\\n\\n\\ndef write_fastq_read(outfile, metadata, read, phredd):\\n\\n    \\\"\\\"\\\"\\\"\\\"\\\"\\n\\n    outfile.writelines([metadata, \\\"\\\\n\\\"])\\n    outfile.writelines([read, \\\"\\\\n\\\"])\\n    outfile.writelines([\\\"+\\\", \\\"\\\\n\\\"])\\n    outfile.writelines([phredd, \\\"\\\\n\\\"])\\n\\n\\ndef record_barcoded_read(line, input_FASTQ, filtered_FASTQ, line_counter):\\n\\n    line_counter += 1\\n    read = input_FASTQ.readline().decode(\\\"utf-8\\\").strip(\\\"\\\\n\\\")\\n    line_counter += 1\\n    plus = input_FASTQ.readline().decode(\\\"utf-8\\\").strip(\\\"\\\\n\\\")\\n    line_counter += 1\\n    phredd = input_FASTQ.readline().decode(\\\"utf-8\\\").strip(\\\"\\\\n\\\")\\n    # write\\n    write_fastq_read(outfile=filtered_FASTQ, metadata=line, read=read, phredd=phredd)\\n\\n    return line_counter\\n\\n\\ndef filter_FASTQ_on_barcodes(path, sequencing_library, unique_bcs, outpath=\\\"./\\\"):\\n\\n    \\\"\\\"\\\"\\\"\\\"\\\"\\n    import gzip\\n\\n    input_FASTQ = gzip.open(path)\\n    #     num_lines = count_reads_in_file(path, lines_per_read=4, ret=True)\\n    line = input_FASTQ.readline().decode(\\\"utf-8\\\").strip(\\\"\\\\n\\\")\\n\\n    filtered_FASTQ, filtered_outpath = initiate_outFASTQ(sequencing_library, outpath)\\n    line_counter, reads_in_barcodes, reads_not_in_barcodes = 0, 0, 0\\n\\n    print(\\n        \\\"Processing and filtering FASTQ reads based on final library cell barcodes...\\\",\\n        \\\"\\\\n\\\",\\n    )\\n\\n    while not (line == \\\"\\\"):\\n\\n        if line[0] == \\\"@\\\":\\n            cell_bc = line[1:].split(\\\":\\\")[0]\\n\\n            if cell_bc in unique_bcs:\\n                reads_in_barcodes += 1\\n                line_counter = record_barcoded_read(\\n                    line, input_FASTQ, filtered_FASTQ, line_counter\\n                )\\n            else:\\n                reads_not_in_barcodes += 1\\n\\n        #### update read processing status ####\\n        line_counter += 1\\n        if line_counter % (4e6) == 0:\\n            print(str(int(line_counter / 4e6)), \\\"million reads processed...\\\")\\n        line = input_FASTQ.readline().decode(\\\"utf-8\\\").strip(\\\"\\\\n\\\")\\n    filtered_FASTQ.close()\\n\\n    return filtered_outpath\";\n",
       "                var nbb_cells = Jupyter.notebook.get_cells();\n",
       "                for (var i = 0; i < nbb_cells.length; ++i) {\n",
       "                    if (nbb_cells[i].input_prompt_number == nbb_cell_id) {\n",
       "                        if (nbb_cells[i].get_text() == nbb_unformatted_code) {\n",
       "                             nbb_cells[i].set_text(nbb_formatted_code);\n",
       "                        }\n",
       "                        break;\n",
       "                    }\n",
       "                }\n",
       "            }, 500);\n",
       "            "
      ],
      "text/plain": [
       "<IPython.core.display.Javascript object>"
      ]
     },
     "metadata": {},
     "output_type": "display_data"
    }
   ],
   "source": [
    "def get_files_in_path(path):\n",
    "\n",
    "    import glob\n",
    "\n",
    "    if path.endswith(\"/\"):\n",
    "        mod_path = \"\".join([path, \"*\"])\n",
    "    else:\n",
    "        mod_path = \"/\".join([path, \"*\"])\n",
    "        path = \"\".join([path, \"/\"])\n",
    "\n",
    "    files_in_dir = glob.glob(mod_path)\n",
    "\n",
    "    seq_libraries = []\n",
    "    for file in files_in_dir:\n",
    "        library = file.split(\".\")[-5].split(\"/\")[-1]\n",
    "        seq_libraries.append(library)\n",
    "\n",
    "    return seq_libraries, files_in_dir\n",
    "\n",
    "\n",
    "def get_sequencing_library_final_barcodes(adata, library):\n",
    "\n",
    "    unique_bcs = adata.obs.loc[adata.obs.Library == library][\"Cell barcode\"].unique()\n",
    "    print(str(int(unique_bcs.shape[0])), \"unique barcodes assocaited with:\", library)\n",
    "\n",
    "    return unique_bcs\n",
    "\n",
    "\n",
    "def count_reads_in_file(filepath, lines_per_read=4, ret=False):\n",
    "\n",
    "    print(\"Checking\", filepath, \"file size...\")\n",
    "    command_string = \" \".join([\"zcat\", fq_path, \"| wc -l\"])\n",
    "    num_lines = int(os.popen(command_string).read().split()[0])\n",
    "    num_reads = int(num_lines / lines_per_read)\n",
    "\n",
    "    if ret == True:\n",
    "        return num_lines\n",
    "\n",
    "\n",
    "def initiate_outFASTQ(sequencing_library, outdir=\"./\"):\n",
    "\n",
    "    output_path = \"%s.LARRY.%s.fastq\" % (sequencing_library, \"filtered_on_final\")\n",
    "    full_outpath = os.path.join(outdir, output_path)\n",
    "    outfile = open(full_outpath, \"w\")\n",
    "\n",
    "    return outfile, full_outpath\n",
    "\n",
    "\n",
    "def write_fastq_read(outfile, metadata, read, phredd):\n",
    "\n",
    "    \"\"\"\"\"\"\n",
    "\n",
    "    outfile.writelines([metadata, \"\\n\"])\n",
    "    outfile.writelines([read, \"\\n\"])\n",
    "    outfile.writelines([\"+\", \"\\n\"])\n",
    "    outfile.writelines([phredd, \"\\n\"])\n",
    "\n",
    "\n",
    "def record_barcoded_read(line, input_FASTQ, filtered_FASTQ, line_counter):\n",
    "\n",
    "    line_counter += 1\n",
    "    read = input_FASTQ.readline().decode(\"utf-8\").strip(\"\\n\")\n",
    "    line_counter += 1\n",
    "    plus = input_FASTQ.readline().decode(\"utf-8\").strip(\"\\n\")\n",
    "    line_counter += 1\n",
    "    phredd = input_FASTQ.readline().decode(\"utf-8\").strip(\"\\n\")\n",
    "    # write\n",
    "    write_fastq_read(outfile=filtered_FASTQ, metadata=line, read=read, phredd=phredd)\n",
    "\n",
    "    return line_counter\n",
    "\n",
    "\n",
    "def filter_FASTQ_on_barcodes(path, sequencing_library, unique_bcs, outpath=\"./\"):\n",
    "\n",
    "    \"\"\"\"\"\"\n",
    "    import gzip\n",
    "\n",
    "    input_FASTQ = gzip.open(path)\n",
    "    #     num_lines = count_reads_in_file(path, lines_per_read=4, ret=True)\n",
    "    line = input_FASTQ.readline().decode(\"utf-8\").strip(\"\\n\")\n",
    "\n",
    "    filtered_FASTQ, filtered_outpath = initiate_outFASTQ(sequencing_library, outpath)\n",
    "    line_counter, reads_in_barcodes, reads_not_in_barcodes = 0, 0, 0\n",
    "\n",
    "    print(\n",
    "        \"Processing and filtering FASTQ reads based on final library cell barcodes...\",\n",
    "        \"\\n\",\n",
    "    )\n",
    "\n",
    "    while not (line == \"\"):\n",
    "\n",
    "        if line[0] == \"@\":\n",
    "            cell_bc = line[1:].split(\":\")[0]\n",
    "\n",
    "            if cell_bc in unique_bcs:\n",
    "                reads_in_barcodes += 1\n",
    "                line_counter = record_barcoded_read(\n",
    "                    line, input_FASTQ, filtered_FASTQ, line_counter\n",
    "                )\n",
    "            else:\n",
    "                reads_not_in_barcodes += 1\n",
    "\n",
    "        #### update read processing status ####\n",
    "        line_counter += 1\n",
    "        if line_counter % (4e6) == 0:\n",
    "            print(str(int(line_counter / 4e6)), \"million reads processed...\")\n",
    "        line = input_FASTQ.readline().decode(\"utf-8\").strip(\"\\n\")\n",
    "    filtered_FASTQ.close()\n",
    "\n",
    "    return filtered_outpath"
   ]
  },
  {
   "cell_type": "markdown",
   "id": "a93b737d",
   "metadata": {},
   "source": [
    "#### Load data"
   ]
  },
  {
   "cell_type": "code",
   "execution_count": 4,
   "id": "3a605f37",
   "metadata": {},
   "outputs": [
    {
     "name": "stderr",
     "output_type": "stream",
     "text": [
      "05-Jul-21 | 21:59:15 - root - [ load data. ]\n",
      "05-Jul-21 | 21:59:19 - root - [ AnnData object with n_obs × n_vars = 130887 × 25289\n",
      "    obs: 'Library', 'Cell barcode', 'Time point', 'Starting population', 'Cell type annotation', 'Well', 'SPRING-x', 'SPRING-y', 'clonal_lineage'\n",
      "    var: 'gene_id'\n",
      "    obsm: 'clone_matrix' ]\n",
      "05-Jul-21 | 21:59:19 - root - [ load data complete. ]\n"
     ]
    },
    {
     "data": {
      "application/javascript": [
       "\n",
       "            setTimeout(function() {\n",
       "                var nbb_cell_id = 4;\n",
       "                var nbb_unformatted_code = \"logger.info(\\\"load data.\\\")\\n\\nFASTQ_path = \\\"/home/mvinyard/data/raw/weinreb_2020/fastqs/raw_downloaded/\\\"\\nadata_path = \\\"/home/mvinyard/data/preprocessed/weinreb_2020/author_preprocessed_download/LARRY.h5ad\\\"\\n\\nfilterd_FASTQ_path = \\\"/home/mvinyard/data/raw/weinreb_2020/fastqs/filtered_tmp/\\\"\\n\\nadata = a.read_h5ad(adata_path)\\n\\nlogger.info(adata)\\nlogger.info(\\\"load data complete.\\\")\";\n",
       "                var nbb_formatted_code = \"logger.info(\\\"load data.\\\")\\n\\nFASTQ_path = \\\"/home/mvinyard/data/raw/weinreb_2020/fastqs/raw_downloaded/\\\"\\nadata_path = \\\"/home/mvinyard/data/preprocessed/weinreb_2020/author_preprocessed_download/LARRY.h5ad\\\"\\n\\nfilterd_FASTQ_path = \\\"/home/mvinyard/data/raw/weinreb_2020/fastqs/filtered_tmp/\\\"\\n\\nadata = a.read_h5ad(adata_path)\\n\\nlogger.info(adata)\\nlogger.info(\\\"load data complete.\\\")\";\n",
       "                var nbb_cells = Jupyter.notebook.get_cells();\n",
       "                for (var i = 0; i < nbb_cells.length; ++i) {\n",
       "                    if (nbb_cells[i].input_prompt_number == nbb_cell_id) {\n",
       "                        if (nbb_cells[i].get_text() == nbb_unformatted_code) {\n",
       "                             nbb_cells[i].set_text(nbb_formatted_code);\n",
       "                        }\n",
       "                        break;\n",
       "                    }\n",
       "                }\n",
       "            }, 500);\n",
       "            "
      ],
      "text/plain": [
       "<IPython.core.display.Javascript object>"
      ]
     },
     "metadata": {},
     "output_type": "display_data"
    }
   ],
   "source": [
    "logger.info(\"load data.\")\n",
    "\n",
    "FASTQ_path = \"/home/mvinyard/data/raw/weinreb_2020/fastqs/raw_downloaded/\"\n",
    "adata_path = \"/home/mvinyard/data/preprocessed/weinreb_2020/author_preprocessed_download/LARRY.h5ad\"\n",
    "\n",
    "filterd_FASTQ_path = \"/home/mvinyard/data/raw/weinreb_2020/fastqs/filtered_tmp/\"\n",
    "\n",
    "adata = a.read_h5ad(adata_path)\n",
    "\n",
    "logger.info(adata)\n",
    "logger.info(\"load data complete.\")"
   ]
  },
  {
   "cell_type": "markdown",
   "id": "50a3de20",
   "metadata": {},
   "source": [
    "#### Match up FASTQ data files to library naming in AnnData "
   ]
  },
  {
   "cell_type": "code",
   "execution_count": 5,
   "id": "683226db",
   "metadata": {},
   "outputs": [
    {
     "name": "stdout",
     "output_type": "stream",
     "text": [
      "The following library names will be changed in AnnData:\n",
      "sFiV_d2_3 d2_3\n",
      "sFiV_d2_2 d2_2\n",
      "sFiV_d2_1 d2_1\n",
      "\n",
      "\n",
      "All AnnData Library values:\n",
      "d6_2_2\n",
      "d6_2_3\n",
      "d6_2_1\n",
      "d6_1_1\n",
      "d4_2_1\n",
      "sFiV_d2_3\n",
      "sFiV_d2_2\n",
      "sFiV_d2_1\n",
      "d4_2_2\n",
      "d4_2_4\n",
      "d4_1_2\n",
      "d4_1_1\n",
      "d6_1_2\n",
      "LK_d6_2_2\n",
      "LK_d6_2_1\n",
      "LSK_d2_2\n",
      "LSK_d2_3\n",
      "LSK_d2_1\n",
      "LK_d4_1\n",
      "LK_d4_2\n",
      "LK_d2\n",
      "LSK_d6_2_3\n",
      "LSK_d6_2_2\n",
      "LSK_d6_2_1\n",
      "LSK_d4_1_2\n",
      "LSK_d4_1_3\n",
      "LSK_d4_1_1\n",
      "LSK_d4_2_1\n",
      "LSK_d4_2_3\n",
      "LSK_d4_2_2\n",
      "LK_d6_1_1\n",
      "LK_d6_1_2\n",
      "LSK_d6_1_1\n",
      "LSK_d6_1_2\n",
      "LSK_d6_1_3\n"
     ]
    },
    {
     "data": {
      "application/javascript": [
       "\n",
       "            setTimeout(function() {\n",
       "                var nbb_cell_id = 5;\n",
       "                var nbb_unformatted_code = \"# get all libraries according to FASTQs on disk\\nlib, lib_paths = get_files_in_path(FASTQ_path)\\n\\nprint(\\\"The following library names will be changed in AnnData:\\\")\\n\\n# loop through adata.obs library values\\nfor i in adata.obs.Library.unique():\\n    if i in lib:\\n        continue\\n    else:\\n        # loop through gsutil-stored library values\\n        for libval in lib:\\n            # I don't want to repalce the LSK cell libraries\\n            if i in libval and not (\\\"LSK\\\" in libval):\\n                print(libval, i)\\n                adata.obs.Library.replace(i, libval, inplace=True)\\nprint(\\\"\\\\n\\\")\\nprint(\\\"All AnnData Library values:\\\")\\n# check library values stored in AnnData to make sure they match\\nfor i in adata.obs.Library.unique():\\n    print(i)\";\n",
       "                var nbb_formatted_code = \"# get all libraries according to FASTQs on disk\\nlib, lib_paths = get_files_in_path(FASTQ_path)\\n\\nprint(\\\"The following library names will be changed in AnnData:\\\")\\n\\n# loop through adata.obs library values\\nfor i in adata.obs.Library.unique():\\n    if i in lib:\\n        continue\\n    else:\\n        # loop through gsutil-stored library values\\n        for libval in lib:\\n            # I don't want to repalce the LSK cell libraries\\n            if i in libval and not (\\\"LSK\\\" in libval):\\n                print(libval, i)\\n                adata.obs.Library.replace(i, libval, inplace=True)\\nprint(\\\"\\\\n\\\")\\nprint(\\\"All AnnData Library values:\\\")\\n# check library values stored in AnnData to make sure they match\\nfor i in adata.obs.Library.unique():\\n    print(i)\";\n",
       "                var nbb_cells = Jupyter.notebook.get_cells();\n",
       "                for (var i = 0; i < nbb_cells.length; ++i) {\n",
       "                    if (nbb_cells[i].input_prompt_number == nbb_cell_id) {\n",
       "                        if (nbb_cells[i].get_text() == nbb_unformatted_code) {\n",
       "                             nbb_cells[i].set_text(nbb_formatted_code);\n",
       "                        }\n",
       "                        break;\n",
       "                    }\n",
       "                }\n",
       "            }, 500);\n",
       "            "
      ],
      "text/plain": [
       "<IPython.core.display.Javascript object>"
      ]
     },
     "metadata": {},
     "output_type": "display_data"
    }
   ],
   "source": [
    "# get all libraries according to FASTQs on disk\n",
    "lib, lib_paths = get_files_in_path(FASTQ_path)\n",
    "\n",
    "print(\"The following library names will be changed in AnnData:\")\n",
    "\n",
    "# loop through adata.obs library values\n",
    "for i in adata.obs.Library.unique():\n",
    "    if i in lib:\n",
    "        continue\n",
    "    else:\n",
    "        # loop through gsutil-stored library values\n",
    "        for libval in lib:\n",
    "            # I don't want to repalce the LSK cell libraries\n",
    "            if i in libval and not (\"LSK\" in libval):\n",
    "                print(libval, i)\n",
    "                adata.obs.Library.replace(i, libval, inplace=True)\n",
    "print(\"\\n\")\n",
    "print(\"All AnnData Library values:\")\n",
    "# check library values stored in AnnData to make sure they match\n",
    "for i in adata.obs.Library.unique():\n",
    "    print(i)"
   ]
  },
  {
   "cell_type": "markdown",
   "id": "45857ced",
   "metadata": {},
   "source": [
    "#### Run filtering (one example):"
   ]
  },
  {
   "cell_type": "code",
   "execution_count": 6,
   "id": "47a901dc",
   "metadata": {},
   "outputs": [
    {
     "name": "stderr",
     "output_type": "stream",
     "text": [
      "05-Jul-21 | 21:59:19 - root - [ Now processing library sFiV_d2_3 ]\n",
      "05-Jul-21 | 21:59:19 - root - [ Unfiltered library data path: /home/mvinyard/data/raw/weinreb_2020/fastqs/raw_downloaded/sFiV_d2_3.sorted.fastq.gz.1 ]\n"
     ]
    },
    {
     "name": "stdout",
     "output_type": "stream",
     "text": [
      "sFiV_d2_3\n",
      "/home/mvinyard/data/raw/weinreb_2020/fastqs/raw_downloaded/sFiV_d2_3.sorted.fastq.gz.1\n",
      "2587 unique barcodes assocaited with: sFiV_d2_3\n",
      "Processing and filtering FASTQ reads based on final library cell barcodes... \n",
      "\n",
      "1 million reads processed...\n",
      "2 million reads processed...\n",
      "3 million reads processed...\n",
      "4 million reads processed...\n",
      "5 million reads processed...\n",
      "6 million reads processed...\n",
      "7 million reads processed...\n",
      "8 million reads processed...\n",
      "9 million reads processed...\n",
      "10 million reads processed...\n",
      "11 million reads processed...\n",
      "12 million reads processed...\n",
      "13 million reads processed...\n",
      "14 million reads processed...\n",
      "15 million reads processed...\n",
      "16 million reads processed...\n",
      "17 million reads processed...\n",
      "18 million reads processed...\n",
      "19 million reads processed...\n",
      "20 million reads processed...\n",
      "21 million reads processed...\n",
      "22 million reads processed...\n",
      "23 million reads processed...\n",
      "24 million reads processed...\n",
      "25 million reads processed...\n",
      "26 million reads processed...\n",
      "27 million reads processed...\n",
      "28 million reads processed...\n",
      "29 million reads processed...\n",
      "30 million reads processed...\n",
      "31 million reads processed...\n",
      "32 million reads processed...\n",
      "33 million reads processed...\n",
      "34 million reads processed...\n",
      "35 million reads processed...\n",
      "36 million reads processed...\n",
      "37 million reads processed...\n",
      "38 million reads processed...\n",
      "39 million reads processed...\n",
      "40 million reads processed...\n",
      "41 million reads processed...\n",
      "42 million reads processed...\n",
      "43 million reads processed...\n",
      "44 million reads processed...\n",
      "45 million reads processed...\n",
      "46 million reads processed...\n",
      "47 million reads processed...\n",
      "48 million reads processed...\n",
      "49 million reads processed...\n",
      "50 million reads processed...\n",
      "51 million reads processed...\n",
      "52 million reads processed...\n",
      "53 million reads processed...\n",
      "54 million reads processed...\n",
      "55 million reads processed...\n",
      "56 million reads processed...\n",
      "57 million reads processed...\n",
      "58 million reads processed...\n",
      "59 million reads processed...\n",
      "60 million reads processed...\n",
      "61 million reads processed...\n",
      "62 million reads processed...\n",
      "63 million reads processed...\n",
      "64 million reads processed...\n",
      "65 million reads processed...\n",
      "66 million reads processed...\n",
      "67 million reads processed...\n",
      "68 million reads processed...\n",
      "69 million reads processed...\n",
      "70 million reads processed...\n",
      "71 million reads processed...\n"
     ]
    },
    {
     "name": "stderr",
     "output_type": "stream",
     "text": [
      "05-Jul-21 | 22:16:44 - root - [ Filtering complete for library sFiV_d2_3 Filtered data path: /home/mvinyard/data/raw/weinreb_2020/fastqs/filtered_tmp/sFiV_d2_3.LARRY.filtered_on_final.fastq ]\n"
     ]
    },
    {
     "data": {
      "application/javascript": [
       "\n",
       "            setTimeout(function() {\n",
       "                var nbb_cell_id = 6;\n",
       "                var nbb_unformatted_code = \"for _lib, _lib_path in zip(lib, lib_paths):\\n    logger.info(\\\" \\\".join([\\\"Now processing library\\\", _lib]))\\n    logger.info(\\\" \\\".join([\\\"Unfiltered library data path:\\\", _lib_path]))\\n    print(_lib)\\n    print(_lib_path)\\n    library_bcs = get_sequencing_library_final_barcodes(adata, library=_lib)\\n    filtered_outpath = filter_FASTQ_on_barcodes(\\n        path=_lib_path,\\n        sequencing_library=_lib,\\n        unique_bcs=library_bcs,\\n        outpath=filterd_FASTQ_path,\\n    )\\n    logger.info(\\n        \\\" \\\".join(\\n            [\\n                \\\"Filtering complete for library\\\",\\n                _lib,\\n                \\\"Filtered data path:\\\",\\n                filtered_outpath,\\n            ]\\n        )\\n    )\\n    break\";\n",
       "                var nbb_formatted_code = \"for _lib, _lib_path in zip(lib, lib_paths):\\n    logger.info(\\\" \\\".join([\\\"Now processing library\\\", _lib]))\\n    logger.info(\\\" \\\".join([\\\"Unfiltered library data path:\\\", _lib_path]))\\n    print(_lib)\\n    print(_lib_path)\\n    library_bcs = get_sequencing_library_final_barcodes(adata, library=_lib)\\n    filtered_outpath = filter_FASTQ_on_barcodes(\\n        path=_lib_path,\\n        sequencing_library=_lib,\\n        unique_bcs=library_bcs,\\n        outpath=filterd_FASTQ_path,\\n    )\\n    logger.info(\\n        \\\" \\\".join(\\n            [\\n                \\\"Filtering complete for library\\\",\\n                _lib,\\n                \\\"Filtered data path:\\\",\\n                filtered_outpath,\\n            ]\\n        )\\n    )\\n    break\";\n",
       "                var nbb_cells = Jupyter.notebook.get_cells();\n",
       "                for (var i = 0; i < nbb_cells.length; ++i) {\n",
       "                    if (nbb_cells[i].input_prompt_number == nbb_cell_id) {\n",
       "                        if (nbb_cells[i].get_text() == nbb_unformatted_code) {\n",
       "                             nbb_cells[i].set_text(nbb_formatted_code);\n",
       "                        }\n",
       "                        break;\n",
       "                    }\n",
       "                }\n",
       "            }, 500);\n",
       "            "
      ],
      "text/plain": [
       "<IPython.core.display.Javascript object>"
      ]
     },
     "metadata": {},
     "output_type": "display_data"
    }
   ],
   "source": [
    "for _lib, _lib_path in zip(lib, lib_paths):\n",
    "    logger.info(\" \".join([\"Now processing library\", _lib]))\n",
    "    logger.info(\" \".join([\"Unfiltered library data path:\", _lib_path]))\n",
    "    print(_lib)\n",
    "    print(_lib_path)\n",
    "    library_bcs = get_sequencing_library_final_barcodes(adata, library=_lib)\n",
    "    filtered_outpath = filter_FASTQ_on_barcodes(\n",
    "        path=_lib_path,\n",
    "        sequencing_library=_lib,\n",
    "        unique_bcs=library_bcs,\n",
    "        outpath=filterd_FASTQ_path,\n",
    "    )\n",
    "    logger.info(\n",
    "        \" \".join(\n",
    "            [\n",
    "                \"Filtering complete for library\",\n",
    "                _lib,\n",
    "                \"Filtered data path:\",\n",
    "                filtered_outpath,\n",
    "            ]\n",
    "        )\n",
    "    )\n",
    "    break"
   ]
  }
 ],
 "metadata": {
  "kernelspec": {
   "display_name": "Python [conda env:scdiffeq] *",
   "language": "python",
   "name": "conda-env-scdiffeq-py"
  },
  "language_info": {
   "codemirror_mode": {
    "name": "ipython",
    "version": 3
   },
   "file_extension": ".py",
   "mimetype": "text/x-python",
   "name": "python",
   "nbconvert_exporter": "python",
   "pygments_lexer": "ipython3",
   "version": "3.9.5"
  }
 },
 "nbformat": 4,
 "nbformat_minor": 5
}
