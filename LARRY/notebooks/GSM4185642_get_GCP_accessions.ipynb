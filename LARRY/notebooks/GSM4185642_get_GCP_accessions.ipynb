{
 "cells": [
  {
   "cell_type": "code",
   "execution_count": 1,
   "id": "5d2a6b22",
   "metadata": {},
   "outputs": [],
   "source": [
    "SRA_Accession_path = \"/home/mvinyard/data/data_accessions/GEO.data.accession.Weinreb.2020.txt\"\n",
    "GoogleGcloudAccession_outpath = \"/home/mvinyard/data/data_accessions/GEO.data.accession.Weinreb.2020.GoogleCloud_accessions.txt\""
   ]
  },
  {
   "cell_type": "code",
   "execution_count": 2,
   "id": "5d71d4f0",
   "metadata": {},
   "outputs": [],
   "source": [
    "def get_google_cloud_accession(SRA_accession_path, save=False, outfile_path=None, ret=False):\n",
    "    \n",
    "    \"\"\"\n",
    "    Parameters:\n",
    "    -----------\n",
    "    SRA_accession_path\n",
    "        \\n-delimited text file of SRA accessions \n",
    "        (example: SRR10510899)\n",
    "        \n",
    "    save [optional]\n",
    "        boolean indicator of preference to return a text file of gsutil accession paths\n",
    "        [default: False]\n",
    "        \n",
    "    ret [optional]\n",
    "        boolean indicator of preference to return a list of gsutil accession paths\n",
    "        [default: False]\n",
    "        \n",
    "    Returns:\n",
    "    --------\n",
    "    gsutil_paths (optional)\n",
    "        list of paths\n",
    "        type: list\n",
    "    \"\"\"\n",
    "    \n",
    "    gsutil_paths = []\n",
    "    \n",
    "    import requests\n",
    "    from bs4 import BeautifulSoup\n",
    "    \n",
    "    ncbi_path = \"https://trace.ncbi.nlm.nih.gov/Traces/sra/?run\"\n",
    "    \n",
    "    with open(SRA_accession_path) as f:\n",
    "        SRA_accession_list = f.read().splitlines() \n",
    "    \n",
    "    for key in SRA_accession_list:\n",
    "        \n",
    "        SRA_path = \"=\".join([ncbi_path, key])\n",
    "        SRA_page = requests.get(SRA_path)\n",
    "        soup = BeautifulSoup(SRA_page.content, 'html.parser')\n",
    "        \n",
    "        soup_contents = soup.find_all(\"td\")\n",
    "        \n",
    "        for noodle in soup_contents:\n",
    "            if \"gs://sra-pub-src-\" in noodle.text: gsutil_paths.append(noodle.text); print(noodle.text)\n",
    "                \n",
    "    if save == True:\n",
    "        \n",
    "        if outfile_path == None:\n",
    "            outfile_dir  = \".\"\n",
    "            outfile_path = \"GoogleCloud_accessions.txt\"\n",
    "            outfile_path = os.path.join([outfile_dir, outfile_path])\n",
    "        \n",
    "        outfile = open(outfile_path, 'w')\n",
    "        outfile.writelines(\"%s\\n\" % line for line in gsutil_paths)\n",
    "        \n",
    "        print(\"\\n\", \"Google Cloud Accessions saved to disk at:\", outfile_path)\n",
    "        \n",
    "    if ret == True:\n",
    "        return gsutil_paths"
   ]
  },
  {
   "cell_type": "code",
   "execution_count": 3,
   "id": "7ae8e9d4",
   "metadata": {},
   "outputs": [
    {
     "name": "stdout",
     "output_type": "stream",
     "text": [
      "gs://sra-pub-src-17/SRR10510898/sFiV_d2_1.sorted.fastq.gz.1\n",
      "gs://sra-pub-src-16/SRR10510899/d6_1_2.sorted.fastq.gz.1\n",
      "gs://sra-pub-src-17/SRR10510900/d6_2_1.sorted.fastq.gz.1\n",
      "gs://sra-pub-src-15/SRR10510901/d6_2_2.sorted.fastq.gz.1\n",
      "gs://sra-pub-src-17/SRR10510902/d6_2_3.sorted.fastq.gz.1\n",
      "gs://sra-pub-src-18/SRR10510903/LK_d2.sorted.fastq.gz.1\n",
      "gs://sra-pub-src-17/SRR10510904/LK_d4_1.sorted.fastq.gz.1\n",
      "gs://sra-pub-src-17/SRR10510905/LK_d4_2.sorted.fastq.gz.1\n",
      "gs://sra-pub-src-17/SRR10510906/LK_d6_1_1.sorted.fastq.gz.1\n",
      "gs://sra-pub-src-16/SRR10510907/LK_d6_1_2.sorted.fastq.gz.1\n",
      "gs://sra-pub-src-18/SRR10510908/LK_d6_2_1.sorted.fastq.gz.1\n",
      "gs://sra-pub-src-16/SRR10510909/sFiV_d2_2.sorted.fastq.gz.1\n",
      "gs://sra-pub-src-16/SRR10510910/LK_d6_2_2.sorted.fastq.gz.1\n",
      "gs://sra-pub-src-17/SRR10510911/LSK_d2_1.sorted.fastq.gz.1\n",
      "gs://sra-pub-src-15/SRR10510912/LSK_d2_2.sorted.fastq.gz.1\n",
      "gs://sra-pub-src-16/SRR10510913/LSK_d2_3.sorted.fastq.gz.1\n",
      "gs://sra-pub-src-16/SRR10510914/LSK_d4_1_1.sorted.fastq.gz.1\n",
      "gs://sra-pub-src-17/SRR10510915/LSK_d4_1_2.sorted.fastq.gz.1\n",
      "gs://sra-pub-src-18/SRR10510916/LSK_d4_1_3.sorted.fastq.gz.1\n",
      "gs://sra-pub-src-18/SRR10510917/LSK_d4_2_1.sorted.fastq.gz.1\n",
      "gs://sra-pub-src-15/SRR10510918/LSK_d4_2_2.sorted.fastq.gz.1\n",
      "gs://sra-pub-src-17/SRR10510919/LSK_d4_2_3.sorted.fastq.gz.1\n",
      "gs://sra-pub-src-18/SRR10510920/sFiV_d2_3.sorted.fastq.gz.1\n",
      "gs://sra-pub-src-16/SRR10510921/LSK_d6_1_1.sorted.fastq.gz.1\n",
      "gs://sra-pub-src-17/SRR10510922/LSK_d6_1_2.sorted.fastq.gz.1\n",
      "gs://sra-pub-src-18/SRR10510923/LSK_d6_1_3.sorted.fastq.gz.1\n",
      "gs://sra-pub-src-17/SRR10510924/LSK_d6_2_1.sorted.fastq.gz.1\n",
      "gs://sra-pub-src-16/SRR10510925/LSK_d6_2_2.sorted.fastq.gz.1\n",
      "gs://sra-pub-src-18/SRR10510926/LSK_d6_2_3.sorted.fastq.gz.1\n",
      "gs://sra-pub-src-17/SRR10510927/d4_1_1.sorted.fastq.gz.1\n",
      "gs://sra-pub-src-17/SRR10510928/d4_1_2.sorted.fastq.gz.1\n",
      "gs://sra-pub-src-17/SRR10510929/d4_2_1.sorted.fastq.gz.1\n",
      "gs://sra-pub-src-17/SRR10510930/d4_2_2.sorted.fastq.gz.1\n",
      "gs://sra-pub-src-16/SRR10510931/d4_2_4.sorted.fastq.gz.1\n",
      "gs://sra-pub-src-15/SRR10510932/d6_1_1.sorted.fastq.gz.1\n",
      "\n",
      " Google Cloud Accessions saved to disk at: /home/mvinyard/data/data_accessions/GEO.data.accession.Weinreb.2020.GoogleCloud_accessions.txt\n"
     ]
    }
   ],
   "source": [
    "get_google_cloud_accession(SRA_accession_path=SRA_Accession_path, save=True, outfile_path=GoogleGcloudAccession_outpath)"
   ]
  }
 ],
 "metadata": {
  "kernelspec": {
   "display_name": "Python [conda env:scdiffeq] *",
   "language": "python",
   "name": "conda-env-scdiffeq-py"
  },
  "language_info": {
   "codemirror_mode": {
    "name": "ipython",
    "version": 3
   },
   "file_extension": ".py",
   "mimetype": "text/x-python",
   "name": "python",
   "nbconvert_exporter": "python",
   "pygments_lexer": "ipython3",
   "version": "3.9.5"
  }
 },
 "nbformat": 4,
 "nbformat_minor": 5
}
